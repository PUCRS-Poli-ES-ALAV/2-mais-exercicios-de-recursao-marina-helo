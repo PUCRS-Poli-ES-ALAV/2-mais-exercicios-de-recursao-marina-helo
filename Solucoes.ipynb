{
 "cells": [
  {
   "cell_type": "markdown",
   "metadata": {},
   "source": [
    "## Exercício 1\n",
    "\n",
    "Modele e implemente um método recursivo que calcule o fatorial de um número n passado como parâmetro.\n"
   ]
  },
  {
   "cell_type": "markdown",
   "metadata": {},
   "source": [
    "## Exercicio 2\n",
    "\n",
    "Modele e implemente um método recursivo que calcule o somatório de um número n (passado como parâmetro) até 0.\n"
   ]
  },
  {
   "cell_type": "markdown",
   "metadata": {},
   "source": [
    "## Exercicio 3\n",
    "\n",
    "Modele e implemente um método recursivo que calcule o n-ésimo número da sequência de fibonacci.\n"
   ]
  },
  {
   "cell_type": "markdown",
   "metadata": {},
   "source": [
    "## Exercicio 4\n",
    "\n",
    "Modele e implemente um método recursivo que calcule o somatório dos números inteiros entre os números k e j, passados como parâmetro.\n"
   ]
  },
  {
   "cell_type": "code",
   "execution_count": 2,
   "metadata": {},
   "outputs": [
    {
     "name": "stdout",
     "output_type": "stream",
     "text": [
      "6\n"
     ]
    }
   ],
   "source": [
    "def somatorio(k, j):\n",
    "    if k == j:\n",
    "        return j\n",
    "    if k > j:\n",
    "        return j + somatorio(k, j+1)\n",
    "    else:\n",
    "        return k + somatorio(k+1, j)\n",
    "\n",
    "\n",
    "print(somatorio(3, 1))"
   ]
  },
  {
   "cell_type": "markdown",
   "metadata": {},
   "source": [
    "## Exercicio 5\n",
    "\n",
    "Modele e implemente um método recursivo que recebe um String em retorna true se este String for um palíndrome, false caso contrário.\n"
   ]
  },
  {
   "cell_type": "code",
   "execution_count": null,
   "metadata": {},
   "outputs": [
    {
     "name": "stdout",
     "output_type": "stream",
     "text": [
      "False\n"
     ]
    }
   ],
   "source": [
    "def isPal(str):\n",
    "    if str == None:\n",
    "        return None\n",
    "    if len(str) == 1 or len(str) == 0:\n",
    "        return True\n",
    "    if str[0] != str[len(str)-1]:\n",
    "        return False\n",
    "    else:\n",
    "        return isPal(str=str[1:-1])\n",
    "\n",
    "\n",
    "print(isPal(\"aabba\"))"
   ]
  },
  {
   "cell_type": "markdown",
   "metadata": {},
   "source": [
    "## Exercicio 6\n",
    "\n",
    "Modele e implemente um método recursivo que recebe um inteiro zero ou positivo e retorna um String com o número em binário.\n"
   ]
  },
  {
   "cell_type": "code",
   "execution_count": null,
   "metadata": {},
   "outputs": [
    {
     "name": "stdout",
     "output_type": "stream",
     "text": [
      "1000\n"
     ]
    }
   ],
   "source": [
    "def convBase2(n):\n",
    "    if n == 0:\n",
    "        return \"0\"\n",
    "    if n == 1:\n",
    "        return \"1\"\n",
    "    else:\n",
    "        return convBase2(int(n / 2)) + str(n % 2)\n",
    "\n",
    "\n",
    "print(convBase2(8))"
   ]
  },
  {
   "cell_type": "markdown",
   "metadata": {},
   "source": [
    "## Exercicio 7\n",
    "\n",
    "Modele e implemente um método recursivo que calcule o somatório dos números contidos em um ArrayList de inteiros, passado como parâmetro.\n"
   ]
  },
  {
   "cell_type": "code",
   "execution_count": null,
   "metadata": {},
   "outputs": [
    {
     "name": "stdout",
     "output_type": "stream",
     "text": [
      "6\n"
     ]
    }
   ],
   "source": [
    "def somatorioArray(array):\n",
    "    if len(array) == 1:\n",
    "        return array[0]\n",
    "    return array[0] + somatorioArray(array[1:])\n",
    "\n",
    "\n",
    "print(somatorioArray([1, 2, 3]))"
   ]
  },
  {
   "cell_type": "markdown",
   "metadata": {},
   "source": [
    "## Exercicio 8\n",
    "\n",
    "Modele e implemente um método recursivo para encontrar o maior elemento de um ArrayList.\n"
   ]
  },
  {
   "cell_type": "code",
   "execution_count": null,
   "metadata": {},
   "outputs": [],
   "source": [
    "# def findBiggest(ar):\n",
    "#     if len(ar) == 1:\n",
    "#         return ar[0]\n",
    "#     if"
   ]
  },
  {
   "cell_type": "markdown",
   "metadata": {},
   "source": [
    "## Exercicio 9\n",
    "\n",
    "Implemente um método recursivo para determinar se um string ocorre dentro de outro.\n"
   ]
  },
  {
   "cell_type": "markdown",
   "metadata": {},
   "source": [
    "## Exercicio 10\n",
    "\n",
    "Faça um método recursivo que determina o número de dígitos de um inteiro.\n"
   ]
  },
  {
   "cell_type": "markdown",
   "metadata": {},
   "source": [
    "## Exercicio 11\n",
    "\n",
    "Implemente um métodos que recebe um String e retorna um ArrayList com todas as permutações deste String.\n"
   ]
  }
 ],
 "metadata": {
  "kernelspec": {
   "display_name": "base",
   "language": "python",
   "name": "python3"
  },
  "language_info": {
   "codemirror_mode": {
    "name": "ipython",
    "version": 3
   },
   "file_extension": ".py",
   "mimetype": "text/x-python",
   "name": "python",
   "nbconvert_exporter": "python",
   "pygments_lexer": "ipython3",
   "version": "3.11.5"
  }
 },
 "nbformat": 4,
 "nbformat_minor": 2
}
